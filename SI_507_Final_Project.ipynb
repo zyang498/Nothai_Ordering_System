{
 "cells": [
  {
   "cell_type": "code",
   "execution_count": 1,
   "id": "16324f65",
   "metadata": {},
   "outputs": [],
   "source": [
    "from bs4 import BeautifulSoup\n",
    "import json\n",
    "import urllib3"
   ]
  },
  {
   "cell_type": "code",
   "execution_count": 2,
   "id": "ccd7b004",
   "metadata": {},
   "outputs": [],
   "source": [
    "url = 'https://nothai.com/menu/'"
   ]
  },
  {
   "cell_type": "code",
   "execution_count": 3,
   "id": "64e099ee",
   "metadata": {},
   "outputs": [],
   "source": [
    "http = urllib3.PoolManager()\n",
    "response = http.request(\"GET\", url)\n",
    "html_doc = response.data.decode('utf-8')"
   ]
  },
  {
   "cell_type": "code",
   "execution_count": 4,
   "id": "fd7d81ef",
   "metadata": {},
   "outputs": [],
   "source": [
    "soup = BeautifulSoup(html_doc)\n",
    "menu = soup.find_all(\"section\", {\"class\": \"menu-main-parent-row\"})"
   ]
  },
  {
   "cell_type": "code",
   "execution_count": 5,
   "id": "55ceb6c4",
   "metadata": {},
   "outputs": [
    {
     "data": {
      "text/plain": [
       "[<section class=\"l-section wpb_row us_custom_6e74c4b0 menu-main-parent-row height_small\"><div class=\"l-section-h i-cf\"><div class=\"g-cols vc_row via_flex valign_top type_default stacking_default\"><div class=\"vc_col-sm-12 wpb_column vc_column_container\"><div class=\"vc_column-inner\"><div class=\"wpb_wrapper\"><h2 class=\"w-text us_custom_f87f6ed2\"><span class=\"w-text-h\"><span class=\"w-text-value\">Select your Entree</span></span></h2><h3 class=\"w-text us_custom_0dd32b33\"><span class=\"w-text-h\"><span class=\"w-text-value\">Noodles</span></span></h3><div class=\"g-cols wpb_row via_flex valign_top type_default stacking_default\"><div class=\"vc_col-sm-12 wpb_column vc_column_container\"><div class=\"vc_column-inner\"><div class=\"wpb_wrapper\"><div class=\"w-hwrapper align_justify valign_middle\" style=\"--hwrapper-gap:0.2rem\"><div class=\"wpb_text_column\"><div class=\"wpb_wrapper\"><p>1. Pad Thai!*</p>\n",
       " </div></div><div class=\"w-image align_none\"><div class=\"w-image-h\"><img alt=\"gluten free\" class=\"attachment-large size-large\" data-lazy-src=\"https://nothai.com/wp-content/uploads/2020/08/gluten.svg\" height=\"1024\" src=\"data:image/svg+xml,%3Csvg%20xmlns='http://www.w3.org/2000/svg'%20viewBox='0%200%201024%201024'%3E%3C/svg%3E\" width=\"1024\"/><noscript><img alt=\"gluten free\" class=\"attachment-large size-large\" height=\"1024\" src=\"https://nothai.com/wp-content/uploads/2020/08/gluten.svg\" width=\"1024\"/></noscript></div></div><div class=\"wpb_text_column\"><div class=\"wpb_wrapper\"><p>12</p>\n",
       " </div></div></div><div class=\"wpb_text_column\"><div class=\"wpb_wrapper\"><p>Rice noodles, green onion, sprouts, egg, with pad thai sauce topped with crushed peanuts and a lime</p>\n",
       " </div></div><div class=\"w-separator size_small\"></div></div></div></div></div><div class=\"g-cols wpb_row via_flex valign_top type_default stacking_default\"><div class=\"vc_col-sm-12 wpb_column vc_column_container\"><div class=\"vc_column-inner\"><div class=\"wpb_wrapper\"><div class=\"w-hwrapper align_justify valign_middle\"><div class=\"wpb_text_column\"><div class=\"wpb_wrapper\"><p>2. Pad Seeyu*</p>\n",
       " </div></div><div class=\"wpb_text_column\"><div class=\"wpb_wrapper\"><p>12</p>\n",
       " </div></div></div><div class=\"wpb_text_column\"><div class=\"wpb_wrapper\"><p>Wide rice noodles, broccoli, sprouts, egg, with a savory sauce</p>\n",
       " </div></div><div class=\"w-separator size_small\"></div></div></div></div></div><div class=\"g-cols wpb_row via_flex valign_top type_default stacking_default\"><div class=\"vc_col-sm-12 wpb_column vc_column_container\"><div class=\"vc_column-inner\"><div class=\"wpb_wrapper\"><div class=\"w-hwrapper align_justify valign_middle\"><div class=\"wpb_text_column\"><div class=\"wpb_wrapper\"><p>3. Drunken Noodles*</p>\n",
       " </div></div><div class=\"wpb_text_column\"><div class=\"wpb_wrapper\"><p>12</p>\n",
       " </div></div></div><div class=\"wpb_text_column\"><div class=\"wpb_wrapper\"><p>Wide rice noodles, bell pepper, green onion, sprouts, egg, with basil garlic sauce</p>\n",
       " </div></div><div class=\"w-separator size_small\"></div></div></div></div></div><div class=\"g-cols wpb_row via_flex valign_top type_default stacking_default\"><div class=\"vc_col-sm-12 wpb_column vc_column_container\"><div class=\"vc_column-inner\"><div class=\"wpb_wrapper\"><div class=\"w-hwrapper align_justify valign_middle\" style=\"--hwrapper-gap:0.2rem\"><div class=\"wpb_text_column\"><div class=\"wpb_wrapper\"><p>4. Pad Thai Curry*</p>\n",
       " </div></div><div class=\"w-image align_none\"><div class=\"w-image-h\"><img alt=\"gluten free\" class=\"attachment-large size-large\" data-lazy-src=\"https://nothai.com/wp-content/uploads/2020/08/gluten.svg\" height=\"1024\" src=\"data:image/svg+xml,%3Csvg%20xmlns='http://www.w3.org/2000/svg'%20viewBox='0%200%201024%201024'%3E%3C/svg%3E\" width=\"1024\"/><noscript><img alt=\"gluten free\" class=\"attachment-large size-large\" height=\"1024\" src=\"https://nothai.com/wp-content/uploads/2020/08/gluten.svg\" width=\"1024\"/></noscript></div></div><div class=\"w-image align_none\"><div class=\"w-image-h\"><img alt=\"contains dairy\" class=\"attachment-large size-large\" data-lazy-src=\"https://nothai.com/wp-content/uploads/2020/08/milk-bottle.svg\" height=\"1024\" src=\"data:image/svg+xml,%3Csvg%20xmlns='http://www.w3.org/2000/svg'%20viewBox='0%200%201024%201024'%3E%3C/svg%3E\" width=\"1024\"/><noscript><img alt=\"contains dairy\" class=\"attachment-large size-large\" height=\"1024\" src=\"https://nothai.com/wp-content/uploads/2020/08/milk-bottle.svg\" width=\"1024\"/></noscript></div></div><div class=\"wpb_text_column\"><div class=\"wpb_wrapper\"><p>12</p>\n",
       " </div></div></div><div class=\"wpb_text_column\"><div class=\"wpb_wrapper\"><p>Rice noodles, pineapple, green onion, sprouts, egg, with red curry sauce</p>\n",
       " </div></div><div class=\"w-separator size_small\"></div></div></div></div></div></div></div></div></div></div></section>,\n",
       " <section class=\"l-section wpb_row us_custom_2c45f91b menu-main-parent-row height_auto\"><div class=\"l-section-h i-cf\"><div class=\"g-cols vc_row via_flex valign_top type_default stacking_default\"><div class=\"vc_col-sm-12 wpb_column vc_column_container\"><div class=\"vc_column-inner\"><div class=\"wpb_wrapper\"><h3 class=\"w-text us_custom_0dd32b33\"><span class=\"w-text-h\"><span class=\"w-text-value\">Stir Fry</span></span></h3><div class=\"g-cols wpb_row via_flex valign_top type_default stacking_default\"><div class=\"vc_col-sm-12 wpb_column vc_column_container\"><div class=\"vc_column-inner\"><div class=\"wpb_wrapper\"><div class=\"w-hwrapper align_justify valign_middle\"><div class=\"wpb_text_column\"><div class=\"wpb_wrapper\"><p>5. Pad Prik*</p>\n",
       " </div></div><div class=\"wpb_text_column\"><div class=\"wpb_wrapper\"><p>12</p>\n",
       " </div></div></div><div class=\"wpb_text_column\"><div class=\"wpb_wrapper\"><p>Bell pepper, mushroom, white onion, green onion, with brown sauce</p>\n",
       " </div></div><div class=\"w-separator size_small\"></div></div></div></div></div><div class=\"g-cols wpb_row via_flex valign_top type_default stacking_default\"><div class=\"vc_col-sm-12 wpb_column vc_column_container\"><div class=\"vc_column-inner\"><div class=\"wpb_wrapper\"><div class=\"w-hwrapper align_justify valign_middle\"><div class=\"wpb_text_column\"><div class=\"wpb_wrapper\"><p>6. Pad Cashew*</p>\n",
       " </div></div><div class=\"wpb_text_column\"><div class=\"wpb_wrapper\"><p>12</p>\n",
       " </div></div></div><div class=\"wpb_text_column\"><div class=\"wpb_wrapper\"><p>Water chestnut, white onion, green onion, baby corn, mushroom, cashews, with brown sauce</p>\n",
       " </div></div><div class=\"w-separator size_small\"></div></div></div></div></div><div class=\"g-cols wpb_row via_flex valign_top type_default stacking_default\"><div class=\"vc_col-sm-12 wpb_column vc_column_container\"><div class=\"vc_column-inner\"><div class=\"wpb_wrapper\"><div class=\"w-hwrapper align_justify valign_middle\"><div class=\"wpb_text_column\"><div class=\"wpb_wrapper\"><p>7. Pad Kana*</p>\n",
       " </div></div><div class=\"wpb_text_column\"><div class=\"wpb_wrapper\"><p>12</p>\n",
       " </div></div></div><div class=\"wpb_text_column\"><div class=\"wpb_wrapper\"><p>Broccoli with brown sauce</p>\n",
       " </div></div><div class=\"w-separator size_small\"></div></div></div></div></div><div class=\"g-cols wpb_row via_flex valign_top type_default stacking_default\"><div class=\"vc_col-sm-12 wpb_column vc_column_container\"><div class=\"vc_column-inner\"><div class=\"wpb_wrapper\"><div class=\"w-hwrapper align_justify valign_middle\"><div class=\"wpb_text_column\"><div class=\"wpb_wrapper\"><p>8. Pad Pak*</p>\n",
       " </div></div><div class=\"wpb_text_column\"><div class=\"wpb_wrapper\"><p>12</p>\n",
       " </div></div></div><div class=\"wpb_text_column\"><div class=\"wpb_wrapper\"><p>Broccoli, carrot, mushroom, baby corn, water chestnut, with brown sauce</p>\n",
       " </div></div><div class=\"w-separator size_small\"></div></div></div></div></div><div class=\"g-cols wpb_row via_flex valign_top type_default stacking_default\"><div class=\"vc_col-sm-12 wpb_column vc_column_container\"><div class=\"vc_column-inner\"><div class=\"wpb_wrapper\"><div class=\"w-hwrapper align_justify valign_middle\"><div class=\"wpb_text_column\"><div class=\"wpb_wrapper\"><p>9. Pad Basil*</p>\n",
       " </div></div><div class=\"wpb_text_column\"><div class=\"wpb_wrapper\"><p>12</p>\n",
       " </div></div></div><div class=\"wpb_text_column\"><div class=\"wpb_wrapper\"><p>Bell pepper, broccoli, white onion, with basil brown sauce</p>\n",
       " </div></div><div class=\"w-separator size_small\"></div></div></div></div></div><div class=\"g-cols wpb_row via_flex valign_top type_default stacking_default\"><div class=\"vc_col-sm-12 wpb_column vc_column_container\"><div class=\"vc_column-inner\"><div class=\"wpb_wrapper\"><div class=\"w-hwrapper align_justify valign_middle\" style=\"--hwrapper-gap:0.2rem\"><div class=\"wpb_text_column\"><div class=\"wpb_wrapper\"><p>10. Green Curry</p>\n",
       " </div></div><div class=\"w-image align_none\"><div class=\"w-image-h\"><img alt=\"gluten free\" class=\"attachment-large size-large\" data-lazy-src=\"https://nothai.com/wp-content/uploads/2020/08/gluten.svg\" height=\"1024\" src=\"data:image/svg+xml,%3Csvg%20xmlns='http://www.w3.org/2000/svg'%20viewBox='0%200%201024%201024'%3E%3C/svg%3E\" width=\"1024\"/><noscript><img alt=\"gluten free\" class=\"attachment-large size-large\" height=\"1024\" src=\"https://nothai.com/wp-content/uploads/2020/08/gluten.svg\" width=\"1024\"/></noscript></div></div><div class=\"wpb_text_column\"><div class=\"wpb_wrapper\"><p>12</p>\n",
       " </div></div></div><div class=\"wpb_text_column\"><div class=\"wpb_wrapper\"><p>Eggplant, white onion, broccoli, bamboo, carrot, with vegan green curry sauce</p>\n",
       " </div></div><div class=\"w-separator size_small\"></div></div></div></div></div><div class=\"g-cols wpb_row via_flex valign_top type_default stacking_default\"><div class=\"vc_col-sm-12 wpb_column vc_column_container\"><div class=\"vc_column-inner\"><div class=\"wpb_wrapper\"><div class=\"w-hwrapper align_justify valign_middle\" style=\"--hwrapper-gap:0.2rem\"><div class=\"wpb_text_column\"><div class=\"wpb_wrapper\"><p>11. Gang Ped*</p>\n",
       " </div></div><div class=\"w-image align_none\"><div class=\"w-image-h\"><img alt=\"gluten free\" class=\"attachment-large size-large\" data-lazy-src=\"https://nothai.com/wp-content/uploads/2020/08/gluten.svg\" height=\"1024\" src=\"data:image/svg+xml,%3Csvg%20xmlns='http://www.w3.org/2000/svg'%20viewBox='0%200%201024%201024'%3E%3C/svg%3E\" width=\"1024\"/><noscript><img alt=\"gluten free\" class=\"attachment-large size-large\" height=\"1024\" src=\"https://nothai.com/wp-content/uploads/2020/08/gluten.svg\" width=\"1024\"/></noscript></div></div><div class=\"w-image align_none\"><div class=\"w-image-h\"><img alt=\"contains dairy\" class=\"attachment-large size-large\" data-lazy-src=\"https://nothai.com/wp-content/uploads/2020/08/milk-bottle.svg\" height=\"1024\" src=\"data:image/svg+xml,%3Csvg%20xmlns='http://www.w3.org/2000/svg'%20viewBox='0%200%201024%201024'%3E%3C/svg%3E\" width=\"1024\"/><noscript><img alt=\"contains dairy\" class=\"attachment-large size-large\" height=\"1024\" src=\"https://nothai.com/wp-content/uploads/2020/08/milk-bottle.svg\" width=\"1024\"/></noscript></div></div><div class=\"wpb_text_column\"><div class=\"wpb_wrapper\"><p>12</p>\n",
       " </div></div></div><div class=\"wpb_text_column\"><div class=\"wpb_wrapper\"><p>Eggplant, bell pepper, white onion, mushroom, with red curry sauce</p>\n",
       " </div></div><div class=\"w-separator size_small\"></div></div></div></div></div><div class=\"g-cols wpb_row via_flex valign_top type_default stacking_default\"><div class=\"vc_col-sm-12 wpb_column vc_column_container\"><div class=\"vc_column-inner\"><div class=\"wpb_wrapper\"><div class=\"w-hwrapper align_justify valign_middle\" style=\"--hwrapper-gap:0.2rem\"><div class=\"wpb_text_column\"><div class=\"wpb_wrapper\"><p>12. Gang Pak*</p>\n",
       " </div></div><div class=\"w-image align_none\"><div class=\"w-image-h\"><img alt=\"gluten free\" class=\"attachment-large size-large\" data-lazy-src=\"https://nothai.com/wp-content/uploads/2020/08/gluten.svg\" height=\"1024\" src=\"data:image/svg+xml,%3Csvg%20xmlns='http://www.w3.org/2000/svg'%20viewBox='0%200%201024%201024'%3E%3C/svg%3E\" width=\"1024\"/><noscript><img alt=\"gluten free\" class=\"attachment-large size-large\" height=\"1024\" src=\"https://nothai.com/wp-content/uploads/2020/08/gluten.svg\" width=\"1024\"/></noscript></div></div><div class=\"w-image align_none\"><div class=\"w-image-h\"><img alt=\"contains dairy\" class=\"attachment-large size-large\" data-lazy-src=\"https://nothai.com/wp-content/uploads/2020/08/milk-bottle.svg\" height=\"1024\" src=\"data:image/svg+xml,%3Csvg%20xmlns='http://www.w3.org/2000/svg'%20viewBox='0%200%201024%201024'%3E%3C/svg%3E\" width=\"1024\"/><noscript><img alt=\"contains dairy\" class=\"attachment-large size-large\" height=\"1024\" src=\"https://nothai.com/wp-content/uploads/2020/08/milk-bottle.svg\" width=\"1024\"/></noscript></div></div><div class=\"wpb_text_column\"><div class=\"wpb_wrapper\"><p>12</p>\n",
       " </div></div></div><div class=\"wpb_text_column\"><div class=\"wpb_wrapper\"><p>Broccoli, baby corn, mushroom, carrot, bamboo, eggplant, with red curry sauce</p>\n",
       " </div></div><div class=\"w-separator size_small\"></div></div></div></div></div><div class=\"g-cols wpb_row via_flex valign_top type_default stacking_default\"><div class=\"vc_col-sm-12 wpb_column vc_column_container\"><div class=\"vc_column-inner\"><div class=\"wpb_wrapper\"><div class=\"w-hwrapper align_justify valign_middle\" style=\"--hwrapper-gap:0.2rem\"><div class=\"wpb_text_column\"><div class=\"wpb_wrapper\"><p>13. Potato Curry*</p>\n",
       " </div></div><div class=\"w-image align_none\"><div class=\"w-image-h\"><img alt=\"gluten free\" class=\"attachment-large size-large\" data-lazy-src=\"https://nothai.com/wp-content/uploads/2020/08/gluten.svg\" height=\"1024\" src=\"data:image/svg+xml,%3Csvg%20xmlns='http://www.w3.org/2000/svg'%20viewBox='0%200%201024%201024'%3E%3C/svg%3E\" width=\"1024\"/><noscript><img alt=\"gluten free\" class=\"attachment-large size-large\" height=\"1024\" src=\"https://nothai.com/wp-content/uploads/2020/08/gluten.svg\" width=\"1024\"/></noscript></div></div><div class=\"w-image align_none\"><div class=\"w-image-h\"><img alt=\"contains dairy\" class=\"attachment-large size-large\" data-lazy-src=\"https://nothai.com/wp-content/uploads/2020/08/milk-bottle.svg\" height=\"1024\" src=\"data:image/svg+xml,%3Csvg%20xmlns='http://www.w3.org/2000/svg'%20viewBox='0%200%201024%201024'%3E%3C/svg%3E\" width=\"1024\"/><noscript><img alt=\"contains dairy\" class=\"attachment-large size-large\" height=\"1024\" src=\"https://nothai.com/wp-content/uploads/2020/08/milk-bottle.svg\" width=\"1024\"/></noscript></div></div><div class=\"wpb_text_column\"><div class=\"wpb_wrapper\"><p>12</p>\n",
       " </div></div></div><div class=\"wpb_text_column\"><div class=\"wpb_wrapper\"><p>Potato, white onion, bell pepper, with red curry sauce</p>\n",
       " </div></div><div class=\"w-separator size_small\"></div></div></div></div></div><div class=\"g-cols wpb_row via_flex valign_top type_default stacking_default\"><div class=\"vc_col-sm-12 wpb_column vc_column_container\"><div class=\"vc_column-inner\"><div class=\"wpb_wrapper\"><div class=\"w-hwrapper align_justify valign_middle\"><div class=\"wpb_text_column\"><div class=\"wpb_wrapper\"><p>14. Sweet &amp; Spicy Chicken</p>\n",
       " </div></div><div class=\"wpb_text_column\"><div class=\"wpb_wrapper\"><p>13</p>\n",
       " </div></div></div><div class=\"wpb_text_column\"><div class=\"wpb_wrapper\"><p>Battered chicken, green onion, with sweet &amp; spicy sauce</p>\n",
       " </div></div><div class=\"w-separator size_small\"></div></div></div></div></div></div></div></div></div></div></section>,\n",
       " <section class=\"l-section wpb_row us_custom_2c45f91b menu-main-parent-row height_small\"><div class=\"l-section-h i-cf\"><div class=\"g-cols vc_row via_flex valign_top type_default stacking_default\"><div class=\"vc_col-sm-12 wpb_column vc_column_container\"><div class=\"vc_column-inner\"><div class=\"wpb_wrapper\"><h3 class=\"w-text us_custom_0dd32b33\"><span class=\"w-text-h\"><span class=\"w-text-value\">Fried Rice</span></span></h3><div class=\"g-cols wpb_row via_flex valign_top type_default stacking_default\"><div class=\"vc_col-sm-12 wpb_column vc_column_container\"><div class=\"vc_column-inner\"><div class=\"wpb_wrapper\"><div class=\"w-hwrapper align_justify valign_middle\"><div class=\"wpb_text_column\"><div class=\"wpb_wrapper\"><p>15. No Thai Fried Rice*</p>\n",
       " </div></div><div class=\"wpb_text_column\"><div class=\"wpb_wrapper\"><p>11</p>\n",
       " </div></div></div><div class=\"wpb_text_column\"><div class=\"wpb_wrapper\"><p>White onion, green onion, peas n carrots, egg, with a savory sauce</p>\n",
       " </div></div><div class=\"w-separator size_small\"></div></div></div></div></div><div class=\"g-cols wpb_row via_flex valign_top type_default stacking_default\"><div class=\"vc_col-sm-12 wpb_column vc_column_container\"><div class=\"vc_column-inner\"><div class=\"wpb_wrapper\"><div class=\"w-hwrapper align_justify valign_middle\" style=\"--hwrapper-gap:0.2rem\"><div class=\"wpb_text_column\"><div class=\"wpb_wrapper\"><p>16. Curry Fried Rice*</p>\n",
       " </div></div><div class=\"w-image align_none\"><div class=\"w-image-h\"><img alt=\"gluten free\" class=\"attachment-large size-large\" data-lazy-src=\"https://nothai.com/wp-content/uploads/2020/08/gluten.svg\" height=\"1024\" src=\"data:image/svg+xml,%3Csvg%20xmlns='http://www.w3.org/2000/svg'%20viewBox='0%200%201024%201024'%3E%3C/svg%3E\" width=\"1024\"/><noscript><img alt=\"gluten free\" class=\"attachment-large size-large\" height=\"1024\" src=\"https://nothai.com/wp-content/uploads/2020/08/gluten.svg\" width=\"1024\"/></noscript></div></div><div class=\"w-image align_none\"><div class=\"w-image-h\"><img alt=\"contains dairy\" class=\"attachment-large size-large\" data-lazy-src=\"https://nothai.com/wp-content/uploads/2020/08/milk-bottle.svg\" height=\"1024\" src=\"data:image/svg+xml,%3Csvg%20xmlns='http://www.w3.org/2000/svg'%20viewBox='0%200%201024%201024'%3E%3C/svg%3E\" width=\"1024\"/><noscript><img alt=\"contains dairy\" class=\"attachment-large size-large\" height=\"1024\" src=\"https://nothai.com/wp-content/uploads/2020/08/milk-bottle.svg\" width=\"1024\"/></noscript></div></div><div class=\"wpb_text_column\"><div class=\"wpb_wrapper\"><p>11</p>\n",
       " </div></div></div><div class=\"wpb_text_column\"><div class=\"wpb_wrapper\"><p>Pineapple, sprouts, peas n carrots, egg, with red curry sauce</p>\n",
       " </div></div><div class=\"w-separator size_small\"></div></div></div></div></div><div class=\"g-cols wpb_row via_flex valign_top type_default stacking_default\"><div class=\"vc_col-sm-12 wpb_column vc_column_container\"><div class=\"vc_column-inner\"><div class=\"wpb_wrapper\"><div class=\"w-hwrapper align_justify valign_middle\"><div class=\"wpb_text_column\"><div class=\"wpb_wrapper\"><p>17. Drunken Fried Rice*</p>\n",
       " </div></div><div class=\"wpb_text_column\"><div class=\"wpb_wrapper\"><p>11</p>\n",
       " </div></div></div><div class=\"wpb_text_column\"><div class=\"wpb_wrapper\"><p>White onion, green onion, sprouts, peas n carrots, egg, with basil garlic sauce</p>\n",
       " </div></div><div class=\"w-separator size_small\"></div></div></div></div></div></div></div></div></div></div></section>,\n",
       " <section class=\"l-section wpb_row us_custom_2c45f91b menu-main-parent-row height_auto\"><div class=\"l-section-h i-cf\"><div class=\"g-cols vc_row via_flex valign_top type_default stacking_default\"><div class=\"vc_col-sm-12 wpb_column vc_column_container\"><div class=\"vc_column-inner\"><div class=\"wpb_wrapper\"><h3 class=\"w-text us_custom_0dd32b33\"><span class=\"w-text-h\"><span class=\"w-text-value\">Sides</span></span></h3><div class=\"g-cols wpb_row via_flex valign_top type_default stacking_default\"><div class=\"vc_col-sm-12 wpb_column vc_column_container\"><div class=\"vc_column-inner\"><div class=\"wpb_wrapper\"><div class=\"w-hwrapper align_justify valign_middle\"><div class=\"wpb_text_column\"><div class=\"wpb_wrapper\"><p>18. Veggie Spring rolls (2)</p>\n",
       " </div></div><div class=\"wpb_text_column\"><div class=\"wpb_wrapper\"><p>4</p>\n",
       " </div></div></div><div class=\"wpb_text_column\"><div class=\"wpb_wrapper\"><p>Shredded veggies fried in a wonton wrapper, with homemade plum sauce</p>\n",
       " </div></div><div class=\"w-separator size_small\"></div></div></div></div></div><div class=\"g-cols wpb_row via_flex valign_top type_default stacking_default\"><div class=\"vc_col-sm-12 wpb_column vc_column_container\"><div class=\"vc_column-inner\"><div class=\"wpb_wrapper\"><div class=\"w-hwrapper align_justify valign_middle\" style=\"--hwrapper-gap:0.2rem\"><div class=\"wpb_text_column\"><div class=\"wpb_wrapper\"><p>19. Nogi Rolls (2)</p>\n",
       " </div></div><div class=\"w-image align_none\"><div class=\"w-image-h\"><img alt=\"contains dairy\" class=\"attachment-large size-large\" data-lazy-src=\"https://nothai.com/wp-content/uploads/2020/08/milk-bottle.svg\" height=\"1024\" src=\"data:image/svg+xml,%3Csvg%20xmlns='http://www.w3.org/2000/svg'%20viewBox='0%200%201024%201024'%3E%3C/svg%3E\" width=\"1024\"/><noscript><img alt=\"contains dairy\" class=\"attachment-large size-large\" height=\"1024\" src=\"https://nothai.com/wp-content/uploads/2020/08/milk-bottle.svg\" width=\"1024\"/></noscript></div></div><div class=\"wpb_text_column\"><div class=\"wpb_wrapper\"><p>5</p>\n",
       " </div></div></div><div class=\"wpb_text_column\"><div class=\"wpb_wrapper\"><p>An Asian cheesesteak eggroll, with homemade plum sauce (Ann Arbor only)</p>\n",
       " </div></div><div class=\"w-separator size_small\"></div></div></div></div></div><div class=\"g-cols wpb_row via_flex valign_top type_default stacking_default\"><div class=\"vc_col-sm-12 wpb_column vc_column_container\"><div class=\"vc_column-inner\"><div class=\"wpb_wrapper\"><div class=\"w-hwrapper align_justify valign_middle\" style=\"--hwrapper-gap:0.2rem\"><div class=\"wpb_text_column\"><div class=\"wpb_wrapper\"><p>19. Satay (4)</p>\n",
       " </div></div><div class=\"w-image align_none\"><div class=\"w-image-h\"><img alt=\"gluten free\" class=\"attachment-large size-large\" data-lazy-src=\"https://nothai.com/wp-content/uploads/2020/08/gluten.svg\" height=\"1024\" src=\"data:image/svg+xml,%3Csvg%20xmlns='http://www.w3.org/2000/svg'%20viewBox='0%200%201024%201024'%3E%3C/svg%3E\" width=\"1024\"/><noscript><img alt=\"gluten free\" class=\"attachment-large size-large\" height=\"1024\" src=\"https://nothai.com/wp-content/uploads/2020/08/gluten.svg\" width=\"1024\"/></noscript></div></div><div class=\"wpb_text_column\"><div class=\"wpb_wrapper\"><p>6</p>\n",
       " </div></div></div><div class=\"wpb_text_column\"><div class=\"wpb_wrapper\"><p>Marinated chicken tenders on a bamboo stick w/ homemade peanut sauce (East Lansing only)</p>\n",
       " </div></div><div class=\"w-separator size_small\"></div></div></div></div></div><div class=\"g-cols wpb_row via_flex valign_top type_default stacking_default\"><div class=\"vc_col-sm-12 wpb_column vc_column_container\"><div class=\"vc_column-inner\"><div class=\"wpb_wrapper\"><div class=\"w-hwrapper align_justify valign_middle\"><div class=\"wpb_text_column\"><div class=\"wpb_wrapper\"><p>20. Crab Wontons (5)</p>\n",
       " </div></div><div class=\"wpb_text_column\"><div class=\"wpb_wrapper\"><p>5</p>\n",
       " </div></div></div><div class=\"wpb_text_column\"><div class=\"wpb_wrapper\"><p>Cream cheese, crabmeat, scallions in fried wonton skin, with homemade plum sauce</p>\n",
       " </div></div><div class=\"w-separator size_small\"></div></div></div></div></div></div></div></div></div></div></section>,\n",
       " <section class=\"l-section wpb_row us_custom_2c45f91b menu-main-parent-row height_small\"><div class=\"l-section-h i-cf\"><div class=\"g-cols vc_row via_flex valign_top type_default stacking_default\"><div class=\"vc_col-sm-12 wpb_column vc_column_container\"><div class=\"vc_column-inner\"><div class=\"wpb_wrapper\"><h3 class=\"w-text us_custom_0dd32b33\"><span class=\"w-text-h\"><span class=\"w-text-value\">Drinks</span></span></h3><div class=\"g-cols wpb_row via_flex valign_top type_default stacking_default\"><div class=\"vc_col-sm-12 wpb_column vc_column_container\"><div class=\"vc_column-inner\"><div class=\"wpb_wrapper\"><div class=\"w-hwrapper align_justify valign_middle\"><div class=\"wpb_text_column\"><div class=\"wpb_wrapper\"><p>Fountain Drink</p>\n",
       " </div></div><div class=\"wpb_text_column\"><div class=\"wpb_wrapper\"><p>2</p>\n",
       " </div></div></div><div class=\"w-separator size_small\"></div></div></div></div></div><div class=\"g-cols wpb_row via_flex valign_top type_default stacking_default\"><div class=\"vc_col-sm-12 wpb_column vc_column_container\"><div class=\"vc_column-inner\"><div class=\"wpb_wrapper\"><div class=\"w-hwrapper align_justify valign_middle\"><div class=\"wpb_text_column\"><div class=\"wpb_wrapper\"><p>Thai Iced Tea</p>\n",
       " </div></div><div class=\"wpb_text_column\"><div class=\"wpb_wrapper\"><p>3</p>\n",
       " </div></div></div><div class=\"w-separator size_small\"></div></div></div></div></div><div class=\"w-separator size_medium\"></div><div class=\"g-cols wpb_row us_custom_cbd70eef menu-inner-legend-box via_flex valign_middle type_default stacking_default\"><div class=\"vc_col-sm-12 wpb_column vc_column_container\"><div class=\"vc_column-inner\"><div class=\"wpb_wrapper\"><div class=\"w-hwrapper align_none valign_middle\"><div class=\"w-image us_custom_27442cc8 align_none\"><div class=\"w-image-h\"><img alt=\"gluten free\" class=\"attachment-large size-large\" data-lazy-src=\"https://nothai.com/wp-content/uploads/2020/08/gluten.svg\" height=\"1024\" src=\"data:image/svg+xml,%3Csvg%20xmlns='http://www.w3.org/2000/svg'%20viewBox='0%200%201024%201024'%3E%3C/svg%3E\" width=\"1024\"/><noscript><img alt=\"gluten free\" class=\"attachment-large size-large\" height=\"1024\" src=\"https://nothai.com/wp-content/uploads/2020/08/gluten.svg\" width=\"1024\"/></noscript></div></div><div class=\"wpb_text_column\"><div class=\"wpb_wrapper\"><p>Gluten Free</p>\n",
       " </div></div><div class=\"w-image us_custom_3a6b9fdb align_none\"><div class=\"w-image-h\"><img alt=\"contains dairy\" class=\"attachment-large size-large\" data-lazy-src=\"https://nothai.com/wp-content/uploads/2020/08/milk-bottle.svg\" height=\"1024\" src=\"data:image/svg+xml,%3Csvg%20xmlns='http://www.w3.org/2000/svg'%20viewBox='0%200%201024%201024'%3E%3C/svg%3E\" width=\"1024\"/><noscript><img alt=\"contains dairy\" class=\"attachment-large size-large\" height=\"1024\" src=\"https://nothai.com/wp-content/uploads/2020/08/milk-bottle.svg\" width=\"1024\"/></noscript></div></div><div class=\"wpb_text_column\"><div class=\"wpb_wrapper\"><p>Contains Dairy</p>\n",
       " </div></div></div><div class=\"wpb_text_column\"><div class=\"wpb_wrapper\"><p>* The sauce in these items contains some form of animal byproduct such as: fish sauce, chicken stock, oyster sauce, or shrimp paste</p>\n",
       " <p>Please be advised that food prepared here may contain these ingredients; Milk, Eggs, Wheat, Soybean, Peanuts, Tree Nuts, Fish and Shellfish.</p>\n",
       " </div></div></div></div></div></div></div></div></div></div></div></section>]"
      ]
     },
     "execution_count": 5,
     "metadata": {},
     "output_type": "execute_result"
    }
   ],
   "source": [
    "menu"
   ]
  },
  {
   "cell_type": "code",
   "execution_count": 6,
   "id": "95e1190e",
   "metadata": {},
   "outputs": [],
   "source": [
    "food_types = []\n",
    "for i in range(len(menu)):\n",
    "    if i == 0:\n",
    "        food_types.append(menu[i].find_all(\"span\")[2].text)\n",
    "    else:\n",
    "        food_types.append(menu[i].find(\"span\").text)\n",
    "        \n",
    "food_types\n",
    "\n",
    "with open('food_types.txt', 'w') as f:\n",
    "    for food in food_types:\n",
    "        f.write(f\"{food}\\n\")"
   ]
  },
  {
   "cell_type": "code",
   "execution_count": null,
   "id": "a11b75f9",
   "metadata": {},
   "outputs": [],
   "source": []
  }
 ],
 "metadata": {
  "kernelspec": {
   "display_name": "Python 3",
   "language": "python",
   "name": "python3"
  },
  "language_info": {
   "codemirror_mode": {
    "name": "ipython",
    "version": 3
   },
   "file_extension": ".py",
   "mimetype": "text/x-python",
   "name": "python",
   "nbconvert_exporter": "python",
   "pygments_lexer": "ipython3",
   "version": "3.8.8"
  }
 },
 "nbformat": 4,
 "nbformat_minor": 5
}
